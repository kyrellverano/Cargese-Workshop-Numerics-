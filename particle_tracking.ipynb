{
 "cells": [
  {
   "cell_type": "code",
   "execution_count": null,
   "id": "0494778f",
   "metadata": {},
   "outputs": [],
   "source": [
    "#import required packagesabs\n",
    "import numpy as np\n",
    "import matplotlib.pyplot as plt\n",
    "import time\n",
    "import os\n",
    "\n"
   ]
  },
  {
   "cell_type": "code",
   "execution_count": null,
   "id": "f4997a92",
   "metadata": {},
   "outputs": [],
   "source": [
    "#time variables\n",
    "t = #total time\n",
    "nt = #number of time bins\n",
    "dt = t/nt\n",
    "nt = nt+1\n",
    "#space variables\n",
    "L = #size of computational domain\n",
    "\n",
    "nx = #number of bins in x-direction\n",
    "ny = #number of bins in y-direction\n",
    "dx = L/ny\n",
    "dy = L/nx\n",
    "\n",
    "# TODO define x and y arrays\n"
   ]
  },
  {
   "cell_type": "code",
   "execution_count": null,
   "id": "d5dd6a50",
   "metadata": {},
   "outputs": [],
   "source": [
    "#TO DO A(t) and B(t) amplitudes of velocity fields"
   ]
  },
  {
   "cell_type": "code",
   "execution_count": null,
   "id": "0f7a13ff",
   "metadata": {},
   "outputs": [],
   "source": [
    "#TO DO define velocity field ux and uy"
   ]
  },
  {
   "cell_type": "code",
   "execution_count": null,
   "id": "8dc6fdf5",
   "metadata": {},
   "outputs": [],
   "source": [
    "#subroutines to write and read data of particles\n",
    "def write_data(it):\n",
    "    #TO DO\n",
    "            \n",
    "def read_data(it):\n",
    "    #TO DO"
   ]
  },
  {
   "cell_type": "code",
   "execution_count": null,
   "id": "57427030",
   "metadata": {},
   "outputs": [],
   "source": [
    "#check CRL criteria\n",
    "crl = np.max([np.max(ux),np.max(uy)])*dt/dx\n",
    "print(\"CRL = \", crl)"
   ]
  },
  {
   "cell_type": "code",
   "execution_count": null,
   "id": "e5b039c1",
   "metadata": {},
   "outputs": [],
   "source": [
    "#define PArticle class\n",
    "class Particle:\n",
    "    def __init__(self, X0=[np.random.rand()*L,np.random.rand()*L]):\n",
    "        self.x = X0[0]\n",
    "        self.y = X0[1]\n",
    "        self.ux = 0.\n",
    "        self.uy = 0.\n",
    "        self.v = 0.\n",
    "    \n",
    "    #finction for linear interpolation\n",
    "    def lin_int(self,u,x,y):\n",
    "        #TO DO\n",
    "    #function for ghost cells\n",
    "    def ghost_cell(self, u):\n",
    "        #TO DO    \n",
    "    #get velocity field for current particle\n",
    "    def vel(self,u, t):\n",
    "        self.check_peridicty()\n",
    "        \n",
    "        u1 = self.ghost_cell(u)\n",
    "               \n",
    "        self.v = self.lin_int(u1, self.x, self.y)\n",
    "     \n",
    "        return self.v\n",
    "    #box is periodic\n",
    "    def check_peridicty(self):\n",
    "        #TO DO   \n",
    "    def rk45(self,u1,t,s): #RK45\n",
    "        #TO DO"
   ]
  },
  {
   "cell_type": "code",
   "execution_count": null,
   "id": "18608019",
   "metadata": {},
   "outputs": [],
   "source": [
    "#define particle array TO DO"
   ]
  },
  {
   "cell_type": "code",
   "execution_count": null,
   "id": "c8b305fa",
   "metadata": {},
   "outputs": [],
   "source": [
    "#TO DO integration of particle trajectory"
   ]
  }
 ],
 "metadata": {
  "kernelspec": {
   "display_name": "Python 3",
   "language": "python",
   "name": "python3"
  },
  "language_info": {
   "codemirror_mode": {
    "name": "ipython",
    "version": 3
   },
   "file_extension": ".py",
   "mimetype": "text/x-python",
   "name": "python",
   "nbconvert_exporter": "python",
   "pygments_lexer": "ipython3",
   "version": "3.8.8"
  }
 },
 "nbformat": 4,
 "nbformat_minor": 5
}
